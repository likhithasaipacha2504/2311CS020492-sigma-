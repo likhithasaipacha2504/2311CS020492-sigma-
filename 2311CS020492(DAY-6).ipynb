{
 "cells": [
  {
   "cell_type": "code",
   "execution_count": 1,
   "id": "1de795d2-87e6-49c3-850d-5ebca5f278a7",
   "metadata": {},
   "outputs": [],
   "source": [
    "#Using the Pandas library, perform the following tasks:\n",
    "\n",
    " #1. Create a DataFrame from the following data:\n",
    "   | Name     | Age | Department   | Salary  |\n",
    "   |----------|-----|--------------|---------|\n",
    "   | John     | 28  | HR           | 45000   |\n",
    "   | Alice    | 34  | IT           | 60000   |\n",
    "   | Bob      | 23  | Marketing    | 35000   |\n",
    "   | Diana    | 29  | Finance      | 50000   |"
   ]
  },
  {
   "cell_type": "code",
   "execution_count": 3,
   "id": "dbe98ec2-b1a5-4d0f-9d11-8b41181921fd",
   "metadata": {},
   "outputs": [
    {
     "name": "stdout",
     "output_type": "stream",
     "text": [
      "    Name  Age Department  Salary\n",
      "0   John   28         HR   45000\n",
      "1  Alice   34         IT   60000\n",
      "2    Bob   23  Marketing   35000\n",
      "3  Diana   29    Finance   50000\n"
     ]
    }
   ],
   "source": [
    "import pandas as pd\n",
    "data = {\n",
    "    \"Name\": [\"John\", \"Alice\", \"Bob\", \"Diana\"],\n",
    "    \"Age\": [28, 34, 23, 29],\n",
    "    \"Department\": [\"HR\", \"IT\", \"Marketing\", \"Finance\"],\n",
    "    \"Salary\": [45000, 60000, 35000, 50000]\n",
    "}\n",
    "df = pd.DataFrame(data)\n",
    "print(df)"
   ]
  },
  {
   "cell_type": "code",
   "execution_count": null,
   "id": "0f5d8af3-935a-4434-9d55-f6a033c51867",
   "metadata": {},
   "outputs": [],
   "source": [
    " #2)Write code to:\n",
    "   - Display the first 2 rows of the DataFrame.\n",
    "   - Add a new column named `Bonus` where the bonus is 10% of the salary.\n",
    "   - Calculate the average salary of employees in the DataFrame.\n",
    "   - Filter and display employees who are older than 25."
   ]
  },
  {
   "cell_type": "code",
   "execution_count": 5,
   "id": "fa02e118-8f01-4131-98ac-c182b8aff069",
   "metadata": {},
   "outputs": [
    {
     "name": "stdout",
     "output_type": "stream",
     "text": [
      "First 2 rows of the DataFrame:\n",
      "    Name  Age Department  Salary\n",
      "0   John   28         HR   45000\n",
      "1  Alice   34         IT   60000\n",
      "\n",
      "DataFrame with the Bonus column:\n",
      "    Name  Age Department  Salary   Bonus\n",
      "0   John   28         HR   45000  4500.0\n",
      "1  Alice   34         IT   60000  6000.0\n",
      "2    Bob   23  Marketing   35000  3500.0\n",
      "3  Diana   29    Finance   50000  5000.0\n",
      "\n",
      "Average salary of employees: 47500.0\n",
      "\n",
      "Employees older than 25:\n",
      "    Name  Age Department  Salary   Bonus\n",
      "0   John   28         HR   45000  4500.0\n",
      "1  Alice   34         IT   60000  6000.0\n",
      "3  Diana   29    Finance   50000  5000.0\n"
     ]
    }
   ],
   "source": [
    "import pandas as pd\n",
    "\n",
    "data = {\n",
    "    \"Name\": [\"John\", \"Alice\", \"Bob\", \"Diana\"],\n",
    "    \"Age\": [28, 34, 23, 29],\n",
    "    \"Department\": [\"HR\", \"IT\", \"Marketing\", \"Finance\"],\n",
    "    \"Salary\": [45000, 60000, 35000, 50000]\n",
    "}\n",
    "\n",
    "df = pd.DataFrame(data)\n",
    "\n",
    "\n",
    "first_two_rows = df.head(2)\n",
    "print(\"First 2 rows of the DataFrame:\")\n",
    "print(first_two_rows)\n",
    "\n",
    "df['Bonus'] = df['Salary'] * 0.10\n",
    "print(\"\\nDataFrame with the Bonus column:\")\n",
    "print(df)\n",
    "\n",
    "\n",
    "average_salary = df['Salary'].mean()\n",
    "print(f\"\\nAverage salary of employees: {average_salary}\")\n",
    "\n",
    "employees_older_than_25 = df[df['Age'] > 25]\n",
    "print(\"\\nEmployees older than 25:\")\n",
    "print(employees_older_than_25)"
   ]
  },
  {
   "cell_type": "code",
   "execution_count": null,
   "id": "b4bfb519-6c43-4f83-98b9-0832c4c09e76",
   "metadata": {},
   "outputs": [],
   "source": []
  }
 ],
 "metadata": {
  "kernelspec": {
   "display_name": "Python [conda env:base] *",
   "language": "python",
   "name": "conda-base-py"
  },
  "language_info": {
   "codemirror_mode": {
    "name": "ipython",
    "version": 3
   },
   "file_extension": ".py",
   "mimetype": "text/x-python",
   "name": "python",
   "nbconvert_exporter": "python",
   "pygments_lexer": "ipython3",
   "version": "3.12.7"
  }
 },
 "nbformat": 4,
 "nbformat_minor": 5
}
