{
 "cells": [
  {
   "cell_type": "code",
   "execution_count": 1,
   "id": "53c2cca7-9643-4848-9b27-af77a7a4016e",
   "metadata": {},
   "outputs": [
    {
     "name": "stdout",
     "output_type": "stream",
     "text": [
      "Original Dataset:\n",
      "   PassengerId     Name   Age   Fare  Survived\n",
      "0            1     John  22.0   7.25         0\n",
      "1            2     Jane   NaN  71.28         1\n",
      "2            3      Bob  25.0    NaN         1\n",
      "3            4    Alice   NaN   8.05         0\n",
      "4            5  Charlie  30.0  10.50         1\n",
      "\n",
      "Cleaned Dataset:\n",
      "   PassengerId        Age   Fare  Survived\n",
      "0          1.0  22.000000   7.25       0.0\n",
      "1          2.0  25.666667  71.28       1.0\n",
      "2          3.0  25.000000  24.27       1.0\n",
      "3          4.0  25.666667   8.05       0.0\n",
      "4          5.0  30.000000  10.50       1.0\n"
     ]
    }
   ],
   "source": [
    "import pandas as pd\n",
    "from sklearn.impute import SimpleImputer\n",
    "def generate_example_dataset():\n",
    "    data = {\n",
    "        'PassengerId': [1, 2, 3, 4, 5],\n",
    "        'Name': ['John', 'Jane', 'Bob', 'Alice', 'Charlie'],\n",
    "        'Age': [22, None, 25, None, 30],\n",
    "        'Fare': [7.25, 71.28, None, 8.05, 10.5],\n",
    "        'Survived': [0, 1, 1, 0, 1]\n",
    "    }\n",
    "    return pd.DataFrame(data)\n",
    "def clean_dataset(df):\n",
    "    print(\"Original Dataset:\")\n",
    "    print(df)\n",
    "    numeric_df = df.select_dtypes(include='number')\n",
    "    imputer = SimpleImputer(strategy='mean')\n",
    "    df_cleaned = pd.DataFrame(imputer.fit_transform(numeric_df), columns=numeric_df.columns)\n",
    "    print(\"\\nCleaned Dataset:\")\n",
    "    print(df_cleaned)\n",
    "if __name__ == \"__main__\":\n",
    "    example_dataset = generate_example_dataset()\n",
    "    clean_dataset(example_dataset)\n"
   ]
  },
  {
   "cell_type": "code",
   "execution_count": 7,
   "id": "c55552c3-988f-403f-8dd8-222c87633436",
   "metadata": {},
   "outputs": [],
   "source": [
    "import numpy as np"
   ]
  },
  {
   "cell_type": "code",
   "execution_count": 9,
   "id": "a7cbebf7-77ac-44b5-8d20-bfcdd73607de",
   "metadata": {},
   "outputs": [
    {
     "data": {
      "text/plain": [
       "array([[63, 45, 48, 67, 74, 64, 61, 53],\n",
       "       [61, 59, 55, 77, 69, 69, 48, 60],\n",
       "       [71, 56, 51, 58, 59, 47, 68, 77],\n",
       "       [46, 45, 52, 74, 65, 53, 60, 55],\n",
       "       [64, 72, 46, 69, 65, 75, 75, 51],\n",
       "       [75, 67, 53, 77, 60, 67, 67, 47],\n",
       "       [75, 54, 74, 69, 54, 64, 52, 61]])"
      ]
     },
     "execution_count": 9,
     "metadata": {},
     "output_type": "execute_result"
    }
   ],
   "source": [
    "np.random.seed(94)\n",
    "b=np.random.randint(45,78,(7,8))\n",
    "b"
   ]
  },
  {
   "cell_type": "code",
   "execution_count": 10,
   "id": "21066e5b-8b48-40ab-ba71-4a5772f1fbe2",
   "metadata": {},
   "outputs": [
    {
     "data": {
      "text/plain": [
       "array([71, 56, 51, 58, 59, 47, 68, 77])"
      ]
     },
     "execution_count": 10,
     "metadata": {},
     "output_type": "execute_result"
    }
   ],
   "source": [
    "b[2] # 2nd row0"
   ]
  },
  {
   "cell_type": "code",
   "execution_count": 11,
   "id": "215f1f51-0d46-49bc-908b-cca819254a32",
   "metadata": {},
   "outputs": [
    {
     "data": {
      "text/plain": [
       "array([53, 60, 77, 55, 51, 47, 61])"
      ]
     },
     "execution_count": 11,
     "metadata": {},
     "output_type": "execute_result"
    }
   ],
   "source": [
    "b[:,7] #7th column"
   ]
  },
  {
   "cell_type": "code",
   "execution_count": 12,
   "id": "3777ef5e-f4fc-4024-8a09-26a2675fbd3d",
   "metadata": {},
   "outputs": [
    {
     "data": {
      "text/plain": [
       "array([67, 77, 58, 74, 69, 77, 69])"
      ]
     },
     "execution_count": 12,
     "metadata": {},
     "output_type": "execute_result"
    }
   ],
   "source": [
    "b[:,3] "
   ]
  },
  {
   "cell_type": "code",
   "execution_count": 13,
   "id": "71cc3c8d-9af8-4829-9a97-6121c2e048cb",
   "metadata": {},
   "outputs": [
    {
     "data": {
      "text/plain": [
       "77"
      ]
     },
     "execution_count": 13,
     "metadata": {},
     "output_type": "execute_result"
    }
   ],
   "source": [
    "b[1,3]"
   ]
  },
  {
   "cell_type": "code",
   "execution_count": 14,
   "id": "d5c14357-0afa-43f4-9433-5f170e52cb0d",
   "metadata": {},
   "outputs": [
    {
     "data": {
      "text/plain": [
       "array([[63, 45, 48, 67, 74, 64, 61, 53],\n",
       "       [61, 59, 55, 77, 69, 69, 48, 60],\n",
       "       [71, 56, 51, 58, 59, 47, 68, 77],\n",
       "       [46, 45, 52, 74, 65, 53, 60, 55],\n",
       "       [64, 72, 46, 69, 65, 75, 75, 51],\n",
       "       [75, 67, 53, 77, 60, 67, 67, 47],\n",
       "       [75, 54, 74, 69, 54, 64, 52, 61]])"
      ]
     },
     "execution_count": 14,
     "metadata": {},
     "output_type": "execute_result"
    }
   ],
   "source": [
    "b"
   ]
  },
  {
   "cell_type": "code",
   "execution_count": 15,
   "id": "1c7704ae-b84a-43d5-a6bc-33c44733beb1",
   "metadata": {},
   "outputs": [
    {
     "data": {
      "text/plain": [
       "array([56, 51, 58, 59, 47])"
      ]
     },
     "execution_count": 15,
     "metadata": {},
     "output_type": "execute_result"
    }
   ],
   "source": [
    "b[2,1:6]"
   ]
  },
  {
   "cell_type": "code",
   "execution_count": 18,
   "id": "e704fc05-5ff7-468c-9a46-cbd4faf38c95",
   "metadata": {},
   "outputs": [
    {
     "ename": "NameError",
     "evalue": "name 'array' is not defined",
     "output_type": "error",
     "traceback": [
      "\u001b[1;31m---------------------------------------------------------------------------\u001b[0m",
      "\u001b[1;31mNameError\u001b[0m                                 Traceback (most recent call last)",
      "Cell \u001b[1;32mIn[18], line 1\u001b[0m\n\u001b[1;32m----> 1\u001b[0m array[ row_start : row\u001b[38;5;241m-\u001b[39mend : row\u001b[38;5;241m-\u001b[39mstep]\n",
      "\u001b[1;31mNameError\u001b[0m: name 'array' is not defined"
     ]
    }
   ],
   "source": [
    "array[ row_start : row-end : row-step]"
   ]
  },
  {
   "cell_type": "code",
   "execution_count": 20,
   "id": "b9b8823f-1e28-483f-a41f-c65c0912455e",
   "metadata": {},
   "outputs": [
    {
     "data": {
      "text/plain": [
       "array([[59, 55, 77, 69, 69],\n",
       "       [45, 52, 74, 65, 53],\n",
       "       [67, 53, 77, 60, 67]])"
      ]
     },
     "execution_count": 20,
     "metadata": {},
     "output_type": "execute_result"
    }
   ],
   "source": [
    "b[1:6:2,1:6]"
   ]
  },
  {
   "cell_type": "code",
   "execution_count": 21,
   "id": "3dc98c90-fc86-4ab3-8567-b79f88c29f1f",
   "metadata": {},
   "outputs": [
    {
     "data": {
      "text/plain": [
       "array([[52, 74, 65, 53],\n",
       "       [46, 69, 65, 75],\n",
       "       [53, 77, 60, 67]])"
      ]
     },
     "execution_count": 21,
     "metadata": {},
     "output_type": "execute_result"
    }
   ],
   "source": [
    "b[3:6,2:6]"
   ]
  },
  {
   "cell_type": "code",
   "execution_count": 22,
   "id": "406fe4f5-cba3-499b-9edb-75e32028b13b",
   "metadata": {},
   "outputs": [
    {
     "data": {
      "text/plain": [
       "array([[61, 59, 55, 77, 69, 69, 48, 60],\n",
       "       [46, 45, 52, 74, 65, 53, 60, 55],\n",
       "       [75, 67, 53, 77, 60, 67, 67, 47]])"
      ]
     },
     "execution_count": 22,
     "metadata": {},
     "output_type": "execute_result"
    }
   ],
   "source": [
    "b[1:6:2]"
   ]
  },
  {
   "cell_type": "code",
   "execution_count": 24,
   "id": "fa819f9e-e7af-4a2b-9ad6-bdd70cbe23a8",
   "metadata": {},
   "outputs": [
    {
     "data": {
      "text/plain": [
       "array([[59, 69, 60],\n",
       "       [45, 65, 55],\n",
       "       [67, 60, 47]])"
      ]
     },
     "execution_count": 24,
     "metadata": {},
     "output_type": "execute_result"
    }
   ],
   "source": [
    "b[1:6:2,1:8:3]"
   ]
  },
  {
   "cell_type": "code",
   "execution_count": null,
   "id": "4ec107bc-553b-4e1f-8df7-20169702ba7d",
   "metadata": {},
   "outputs": [],
   "source": []
  }
 ],
 "metadata": {
  "kernelspec": {
   "display_name": "Python 3 (ipykernel)",
   "language": "python",
   "name": "python3"
  },
  "language_info": {
   "codemirror_mode": {
    "name": "ipython",
    "version": 3
   },
   "file_extension": ".py",
   "mimetype": "text/x-python",
   "name": "python",
   "nbconvert_exporter": "python",
   "pygments_lexer": "ipython3",
   "version": "3.12.7"
  }
 },
 "nbformat": 4,
 "nbformat_minor": 5
}
